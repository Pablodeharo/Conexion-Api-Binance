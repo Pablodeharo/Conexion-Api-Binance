{
 "cells": [
  {
   "cell_type": "code",
   "execution_count": 1,
   "metadata": {},
   "outputs": [],
   "source": [
    "import pandas as pd\n",
    "from binance.client import Client\n",
    "import sqlite3\n",
    "import schedule\n",
    "import time\n",
    "from dotenv import load_dotenv\n",
    "import os"
   ]
  },
  {
   "cell_type": "code",
   "execution_count": 2,
   "metadata": {},
   "outputs": [],
   "source": [
    "def connect_to_binance(api_key, api_secret):\n",
    "    client = Client(api_key=api_key, api_secret=api_secret)\n",
    "    return client\n",
    "\n",
    "# Cargar las variables de entorno desde el archivo .env\n",
    "load_dotenv()\n",
    "\n",
    "# Obtener las claves de las variables de entorno\n",
    "api_key = os.getenv(\"API_KEY\")\n",
    "api_secret = os.getenv(\"API_SECRET\")\n",
    "\n",
    "# Llamar a la función para conectarse a la API de Binance\n",
    "binance_client = connect_to_binance(api_key, api_secret)"
   ]
  },
  {
   "cell_type": "code",
   "execution_count": 3,
   "metadata": {},
   "outputs": [],
   "source": [
    "# Conectar a la base de datos (creará el achivo si no existe)\n",
    "conn = sqlite3.connect('crypto_data.db')\n",
    "conn.close()"
   ]
  },
  {
   "cell_type": "code",
   "execution_count": 4,
   "metadata": {},
   "outputs": [],
   "source": [
    "def get_crypto_data():\n",
    "    # Conectar a la base de datos\n",
    "    conn = sqlite3.connect('crypto_data.db')\n",
    "\n",
    "    # Llamar a la función para conectarse a la API de Binance\n",
    "    binance_client = connect_to_binance(api_key, api_secret)\n",
    "\n",
    "    # Definir los símbolos de las criptomonedas y el intervalo de tiempo\n",
    "    symbols = ['BTCUSDT', 'ETHUSDT', 'XRPUSDT', 'LTCUSDT']\n",
    "    interval = '1h'\n",
    "\n",
    "    for symbol in symbols:\n",
    "        # Obtener los datos del intervalo de tiempo especificado\n",
    "        klines = binance_client.get_klines(symbol=symbol, interval=interval)\n",
    "    \n",
    "        # Procesar los datos y crear un DataFrame de Pandas\n",
    "        data = pd.DataFrame(klines, columns=['timestamp', 'open', 'high', 'low', 'close', 'volume', 'close_time', 'quote_asset_volume', 'number_of_trades', 'taker_buy_base_asset_volume', 'taker_buy_quote_asset_volume', 'ignore'])\n",
    "    \n",
    "        # Seleccionar solo las columnas que necesitamos\n",
    "        data = data[['timestamp', 'open', 'close', 'high', 'low', 'volume']]\n",
    "    \n",
    "        # Convertir el timestamp a formato de fecha y hora\n",
    "        data['timestamp'] = pd.to_datetime(data['timestamp'], unit='ms')\n",
    "    \n",
    "        # Guardar los datos en la base de datos\n",
    "        data.to_sql(f'{symbol.lower()}_1h_data', conn, if_exists='replace', index=False)\n",
    "\n",
    "# Obtener los últimos dos conjuntos de datos actualizados de la base de datos\n",
    "    for symbol in symbols:\n",
    "        query = f'SELECT * FROM {symbol.lower()}_1h_data ORDER BY timestamp DESC LIMIT 2'\n",
    "        last_two_updates = pd.read_sql_query(query, conn)\n",
    "        print(f'Últimas dos actualizaciones para {symbol}:')\n",
    "        print(last_two_updates)\n",
    "        print()\n",
    "\n",
    "# Cerrar la conexión a la base de datos\n",
    "conn.close()\n",
    "\n",
    "# Programar la ejecución de la función get_crypto_data cada hora\n",
    "schedule.every().hour.do(get_crypto_data)\n",
    "# Ejecutar el bucle principal para que el programa se ejecute continuamente\n",
    "while True:\n",
    "    schedule.run_pending()\n",
    "    time.sleep(60)  # Esperar 60 segundos antes de volver a revisar el schedule\n"
   ]
  }
 ],
 "metadata": {
  "kernelspec": {
   "display_name": "Python 3",
   "language": "python",
   "name": "python3"
  },
  "language_info": {
   "codemirror_mode": {
    "name": "ipython",
    "version": 3
   },
   "file_extension": ".py",
   "mimetype": "text/x-python",
   "name": "python",
   "nbconvert_exporter": "python",
   "pygments_lexer": "ipython3",
   "version": "3.12.2"
  }
 },
 "nbformat": 4,
 "nbformat_minor": 2
}
